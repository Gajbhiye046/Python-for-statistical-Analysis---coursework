{
 "cells": [
  {
   "cell_type": "code",
   "execution_count": 1,
   "id": "2565c35c",
   "metadata": {},
   "outputs": [],
   "source": [
    "import numpy as np\n",
    "import matplotlib.pyplot as plt\n",
    "from scipy.interpolate import interp1d\n",
    "    "
   ]
  },
  {
   "cell_type": "code",
   "execution_count": null,
   "id": "7630b90e",
   "metadata": {},
   "outputs": [],
   "source": [
    "xs = [0.0, 0.5, 1.0, 1.5, 2.0, 2.5, 3.0, 3.5, 4.0, 4.5, \n",
    "      5.0, 5.5, 6.0, 6.5, 7.0, 7.5, 8.0, 8.5, 9.0, 9.5, 10.0]\n",
    "ys = [0.2, 0.165, 0.167, 0.166, 0.154, 0.134, 0.117, \n",
    "      0.108, 0.092, 0.06, 0.031, 0.028, 0.048, 0.077, \n",
    "      0.103, 0.119, 0.119, 0.103, 0.074, 0.038, 0.003]\n",
    "plot(xs,ys)\n",
    "plt.xlabel('x')\n",
    "plt.ylab"
   ]
  }
 ],
 "metadata": {
  "kernelspec": {
   "display_name": "Python 3",
   "language": "python",
   "name": "python3"
  },
  "language_info": {
   "codemirror_mode": {
    "name": "ipython",
    "version": 3
   },
   "file_extension": ".py",
   "mimetype": "text/x-python",
   "name": "python",
   "nbconvert_exporter": "python",
   "pygments_lexer": "ipython3",
   "version": "3.8.8"
  }
 },
 "nbformat": 4,
 "nbformat_minor": 5
}
