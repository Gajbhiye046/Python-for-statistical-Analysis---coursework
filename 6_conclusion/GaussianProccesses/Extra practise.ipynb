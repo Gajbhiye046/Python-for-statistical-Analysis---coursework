{
 "cells": [
  {
   "cell_type": "markdown",
   "id": "ead2598b",
   "metadata": {},
   "source": [
    "### Gaussian processes"
   ]
  },
  {
   "cell_type": "code",
   "execution_count": 1,
   "id": "48971fef",
   "metadata": {},
   "outputs": [
    {
     "data": {
      "text/plain": [
       "<AxesSubplot:>"
      ]
     },
     "execution_count": 1,
     "metadata": {},
     "output_type": "execute_result"
    },
    {
     "data": {
      "image/png": "[encoded data removed]",
      "text/plain": [
       "<Figure size 432x288 with 2 Axes>"
      ]
     },
     "metadata": {
      "needs_background": "light"
     },
     "output_type": "display_data"
    }
   ],
   "source": [
    "import numpy as np\n",
    "import seaborn as sb\n",
    "length = 50\n",
    "x= np.arange(19)\n",
    "cov=np.exp(-1/length*(x-np.atleast_2d(x).T)**2).T\n",
    "sb.heatmap(cov)"
   ]
  },
  {
   "cell_type": "code",
   "execution_count": 4,
   "id": "df315c26",
   "metadata": {},
   "outputs": [
    {
     "data": {
      "text/plain": [
       "array([ 0,  1,  2,  3,  4,  5,  6,  7,  8,  9, 10, 11, 12, 13, 14, 15, 16,\n",
       "       17, 18])"
      ]
     },
     "execution_count": 4,
     "metadata": {},
     "output_type": "execute_result"
    }
   ],
   "source": [
    "x"
   ]
  },
  {
   "cell_type": "code",
   "execution_count": 5,
   "id": "9de3fab7",
   "metadata": {},
   "outputs": [
    {
     "data": {
      "text/plain": [
       "array([[  0,   1,   2,   3,   4,   5,   6,   7,   8,   9,  10,  11,  12,\n",
       "         13,  14,  15,  16,  17,  18],\n",
       "       [ -1,   0,   1,   2,   3,   4,   5,   6,   7,   8,   9,  10,  11,\n",
       "         12,  13,  14,  15,  16,  17],\n",
       "       [ -2,  -1,   0,   1,   2,   3,   4,   5,   6,   7,   8,   9,  10,\n",
       "         11,  12,  13,  14,  15,  16],\n",
       "       [ -3,  -2,  -1,   0,   1,   2,   3,   4,   5,   6,   7,   8,   9,\n",
       "         10,  11,  12,  13,  14,  15],\n",
       "       [ -4,  -3,  -2,  -1,   0,   1,   2,   3,   4,   5,   6,   7,   8,\n",
       "          9,  10,  11,  12,  13,  14],\n",
       "       [ -5,  -4,  -3,  -2,  -1,   0,   1,   2,   3,   4,   5,   6,   7,\n",
       "          8,   9,  10,  11,  12,  13],\n",
       "       [ -6,  -5,  -4,  -3,  -2,  -1,   0,   1,   2,   3,   4,   5,   6,\n",
       "          7,   8,   9,  10,  11,  12],\n",
       "       [ -7,  -6,  -5,  -4,  -3,  -2,  -1,   0,   1,   2,   3,   4,   5,\n",
       "          6,   7,   8,   9,  10,  11],\n",
       "       [ -8,  -7,  -6,  -5,  -4,  -3,  -2,  -1,   0,   1,   2,   3,   4,\n",
       "          5,   6,   7,   8,   9,  10],\n",
       "       [ -9,  -8,  -7,  -6,  -5,  -4,  -3,  -2,  -1,   0,   1,   2,   3,\n",
       "          4,   5,   6,   7,   8,   9],\n",
       "       [-10,  -9,  -8,  -7,  -6,  -5,  -4,  -3,  -2,  -1,   0,   1,   2,\n",
       "          3,   4,   5,   6,   7,   8],\n",
       "       [-11, -10,  -9,  -8,  -7,  -6,  -5,  -4,  -3,  -2,  -1,   0,   1,\n",
       "          2,   3,   4,   5,   6,   7],\n",
       "       [-12, -11, -10,  -9,  -8,  -7,  -6,  -5,  -4,  -3,  -2,  -1,   0,\n",
       "          1,   2,   3,   4,   5,   6],\n",
       "       [-13, -12, -11, -10,  -9,  -8,  -7,  -6,  -5,  -4,  -3,  -2,  -1,\n",
       "          0,   1,   2,   3,   4,   5],\n",
       "       [-14, -13, -12, -11, -10,  -9,  -8,  -7,  -6,  -5,  -4,  -3,  -2,\n",
       "         -1,   0,   1,   2,   3,   4],\n",
       "       [-15, -14, -13, -12, -11, -10,  -9,  -8,  -7,  -6,  -5,  -4,  -3,\n",
       "         -2,  -1,   0,   1,   2,   3],\n",
       "       [-16, -15, -14, -13, -12, -11, -10,  -9,  -8,  -7,  -6,  -5,  -4,\n",
       "         -3,  -2,  -1,   0,   1,   2],\n",
       "       [-17, -16, -15, -14, -13, -12, -11, -10,  -9,  -8,  -7,  -6,  -5,\n",
       "         -4,  -3,  -2,  -1,   0,   1],\n",
       "       [-18, -17, -16, -15, -14, -13, -12, -11, -10,  -9,  -8,  -7,  -6,\n",
       "         -5,  -4,  -3,  -2,  -1,   0]])"
      ]
     },
     "execution_count": 5,
     "metadata": {},
     "output_type": "execute_result"
    }
   ],
   "source": [
    "x-np.atleast_2d(x).T"
   ]
  },
  {
   "cell_type": "code",
   "execution_count": 4,
   "id": "07bb57ac",
   "metadata": {},
   "outputs": [
    {
     "data": {
      "text/plain": [
       "array([[ 0],\n",
       "       [ 1],\n",
       "       [ 2],\n",
       "       [ 3],\n",
       "       [ 4],\n",
       "       [ 5],\n",
       "       [ 6],\n",
       "       [ 7],\n",
       "       [ 8],\n",
       "       [ 9],\n",
       "       [10],\n",
       "       [11],\n",
       "       [12],\n",
       "       [13],\n",
       "       [14],\n",
       "       [15],\n",
       "       [16],\n",
       "       [17],\n",
       "       [18]])"
      ]
     },
     "execution_count": 4,
     "metadata": {},
     "output_type": "execute_result"
    }
   ],
   "source": [
    "np.atleast_2d(x).T"
   ]
  },
  {
   "cell_type": "code",
   "execution_count": 3,
   "id": "39f0e7fd",
   "metadata": {},
   "outputs": [
    {
     "data": {
      "text/plain": [
       "array([[  0,   1,   4,   9,  16,  25,  36,  49,  64,  81, 100, 121, 144,\n",
       "        169, 196, 225, 256, 289, 324],\n",
       "       [  1,   0,   1,   4,   9,  16,  25,  36,  49,  64,  81, 100, 121,\n",
       "        144, 169, 196, 225, 256, 289],\n",
       "       [  4,   1,   0,   1,   4,   9,  16,  25,  36,  49,  64,  81, 100,\n",
       "        121, 144, 169, 196, 225, 256],\n",
       "       [  9,   4,   1,   0,   1,   4,   9,  16,  25,  36,  49,  64,  81,\n",
       "        100, 121, 144, 169, 196, 225],\n",
       "       [ 16,   9,   4,   1,   0,   1,   4,   9,  16,  25,  36,  49,  64,\n",
       "         81, 100, 121, 144, 169, 196],\n",
       "       [ 25,  16,   9,   4,   1,   0,   1,   4,   9,  16,  25,  36,  49,\n",
       "         64,  81, 100, 121, 144, 169],\n",
       "       [ 36,  25,  16,   9,   4,   1,   0,   1,   4,   9,  16,  25,  36,\n",
       "         49,  64,  81, 100, 121, 144],\n",
       "       [ 49,  36,  25,  16,   9,   4,   1,   0,   1,   4,   9,  16,  25,\n",
       "         36,  49,  64,  81, 100, 121],\n",
       "       [ 64,  49,  36,  25,  16,   9,   4,   1,   0,   1,   4,   9,  16,\n",
       "         25,  36,  49,  64,  81, 100],\n",
       "       [ 81,  64,  49,  36,  25,  16,   9,   4,   1,   0,   1,   4,   9,\n",
       "         16,  25,  36,  49,  64,  81],\n",
       "       [100,  81,  64,  49,  36,  25,  16,   9,   4,   1,   0,   1,   4,\n",
       "          9,  16,  25,  36,  49,  64],\n",
       "       [121, 100,  81,  64,  49,  36,  25,  16,   9,   4,   1,   0,   1,\n",
       "          4,   9,  16,  25,  36,  49],\n",
       "       [144, 121, 100,  81,  64,  49,  36,  25,  16,   9,   4,   1,   0,\n",
       "          1,   4,   9,  16,  25,  36],\n",
       "       [169, 144, 121, 100,  81,  64,  49,  36,  25,  16,   9,   4,   1,\n",
       "          0,   1,   4,   9,  16,  25],\n",
       "       [196, 169, 144, 121, 100,  81,  64,  49,  36,  25,  16,   9,   4,\n",
       "          1,   0,   1,   4,   9,  16],\n",
       "       [225, 196, 169, 144, 121, 100,  81,  64,  49,  36,  25,  16,   9,\n",
       "          4,   1,   0,   1,   4,   9],\n",
       "       [256, 225, 196, 169, 144, 121, 100,  81,  64,  49,  36,  25,  16,\n",
       "          9,   4,   1,   0,   1,   4],\n",
       "       [289, 256, 225, 196, 169, 144, 121, 100,  81,  64,  49,  36,  25,\n",
       "         16,   9,   4,   1,   0,   1],\n",
       "       [324, 289, 256, 225, 196, 169, 144, 121, 100,  81,  64,  49,  36,\n",
       "         25,  16,   9,   4,   1,   0]], dtype=int32)"
      ]
     },
     "execution_count": 3,
     "metadata": {},
     "output_type": "execute_result"
    }
   ],
   "source": [
    "(x-np.atleast_2d(x).T)**2"
   ]
  },
  {
   "cell_type": "code",
   "execution_count": 8,
   "id": "93d68c05",
   "metadata": {},
   "outputs": [
    {
     "data": {
      "text/plain": [
       "(19, 19)"
      ]
     },
     "execution_count": 8,
     "metadata": {},
     "output_type": "execute_result"
    }
   ],
   "source": [
    "np.exp(-1/length*(x-np.atleast_2d(x).T)**2).shape"
   ]
  },
  {
   "cell_type": "code",
   "execution_count": null,
   "id": "4ce96c5f",
   "metadata": {},
   "outputs": [],
   "source": []
  }
 ],
 "metadata": {
  "kernelspec": {
   "display_name": "Python 3",
   "language": "python",
   "name": "python3"
  },
  "language_info": {
   "codemirror_mode": {
    "name": "ipython",
    "version": 3
   },
   "file_extension": ".py",
   "mimetype": "text/x-python",
   "name": "python",
   "nbconvert_exporter": "python",
   "pygments_lexer": "ipython3",
   "version": "3.8.8"
  }
 },
 "nbformat": 4,
 "nbformat_minor": 5
}
